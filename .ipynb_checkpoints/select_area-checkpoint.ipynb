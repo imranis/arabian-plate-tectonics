{
 "cells": [
  {
   "cell_type": "code",
   "execution_count": null,
   "id": "initial_id",
   "metadata": {
    "ExecuteTime": {
     "start_time": "2023-10-24T00:22:25.740182Z"
    },
    "is_executing": true
   },
   "outputs": [
    {
     "data": {
      "application/vnd.jupyter.widget-view+json": {
       "model_id": "bd7224b562c54ba9afc41d9b1c02552f",
       "version_major": 2,
       "version_minor": 0
      },
      "text/plain": [
       "Map(center=[51.5, -0.1], controls=(ZoomControl(options=['position', 'zoom_in_text', 'zoom_in_title', 'zoom_out…"
      ]
     },
     "metadata": {},
     "output_type": "display_data"
    }
   ],
   "source": [
    "from ipyleaflet import Map, basemaps, DrawControl, GeoData\n",
    "import geopandas as gpd\n",
    "from shapely.geometry import Polygon, box\n",
    "\n",
    "# Create a map\n",
    "m = Map(center=(51.5, -0.1), zoom=10, basemap=basemaps.OpenStreetMap.Mapnik)\n",
    "\n",
    "# Create a draw control\n",
    "draw_control = DrawControl(polygon={'shapeOptions': {'color': '#0000FF'}})\n",
    "m.add_control(draw_control)\n",
    "\n",
    "# Display the map\n",
    "display(m)\n",
    "\n",
    "# Wait for the user to draw a polygon on the map\n",
    "while 'polygon' not in draw_control.last_draw:\n",
    "    pass\n",
    "\n",
    "# Get the coordinates of the polygon\n",
    "coords = draw_control.last_draw['polygon']['geometry']['coordinates'][0]\n",
    "polygon = Polygon(coords)\n",
    "\n",
    "# Define the size of your square sections (in degrees)\n",
    "square_size = 0.1\n",
    "\n",
    "# Create a grid of squares within your area of interest\n",
    "squares = []\n",
    "for x in np.arange(min([coord[0] for coord in coords]), max([coord[0] for coord in coords]), square_size):\n",
    "    for y in np.arange(min([coord[1] for coord in coords]), max([coord[1] for coord in coords]), square_size):\n",
    "        square = box(x, y, x+square_size, y+square_size)\n",
    "        if polygon.intersects(square):\n",
    "            squares.append(square)\n",
    "\n",
    "# Create a GeoDataFrame for the squares\n",
    "squares_gdf = gpd.GeoDataFrame(gpd.GeoSeries(squares), columns=['geometry'])\n",
    "\n",
    "# Display the squares on the map\n",
    "m.add_layer(GeoData(geo_dataframe=squares_gdf))\n",
    "\n",
    "# Output the lat/lon coordinates of each square section\n",
    "for i, row in squares_gdf.iterrows():\n",
    "    minx, miny, maxx, maxy = row.geometry.bounds\n",
    "    print(f'Square {i}:')\n",
    "    print(f'  Bottom left: ({miny}, {minx})')\n",
    "    print(f'  Top right: ({maxy}, {maxx})')\n"
   ]
  },
  {
   "cell_type": "code",
   "execution_count": null,
   "id": "2cb0ac2f0c6e8f14",
   "metadata": {},
   "outputs": [],
   "source": []
  },
  {
   "cell_type": "code",
   "execution_count": null,
   "id": "80af956f",
   "metadata": {},
   "outputs": [],
   "source": []
  }
 ],
 "metadata": {
  "kernelspec": {
   "display_name": "Python 3 (ipykernel)",
   "language": "python",
   "name": "python3"
  },
  "language_info": {
   "codemirror_mode": {
    "name": "ipython",
    "version": 3
   },
   "file_extension": ".py",
   "mimetype": "text/x-python",
   "name": "python",
   "nbconvert_exporter": "python",
   "pygments_lexer": "ipython3",
   "version": "3.8.17"
  }
 },
 "nbformat": 4,
 "nbformat_minor": 5
}
