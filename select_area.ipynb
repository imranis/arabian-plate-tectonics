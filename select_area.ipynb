{
 "cells": [
  {
   "cell_type": "code",
   "execution_count": 34,
   "id": "initial_id",
   "metadata": {
    "ExecuteTime": {
     "end_time": "2023-10-26T01:36:29.140769Z",
     "start_time": "2023-10-26T01:36:29.111654Z"
    },
    "scrolled": true
   },
   "outputs": [
    {
     "data": {
      "application/vnd.jupyter.widget-view+json": {
       "model_id": "962d69a68aad4defa829bc1ae108170a",
       "version_major": 2,
       "version_minor": 0
      },
      "text/plain": [
       "Map(center=[25, 50], controls=(ZoomControl(options=['position', 'zoom_in_text', 'zoom_in_title', 'zoom_out_tex…"
      ]
     },
     "metadata": {},
     "output_type": "display_data"
    },
    {
     "data": {
      "application/vnd.jupyter.widget-view+json": {
       "model_id": "38242276c89945d1a6a0b09a420f7602",
       "version_major": 2,
       "version_minor": 0
      },
      "text/plain": [
       "Output()"
      ]
     },
     "metadata": {},
     "output_type": "display_data"
    }
   ],
   "source": [
    "from ipyleaflet import Map, basemaps, DrawControl, GeoData\n",
    "import pandas as pd\n",
    "import geopandas as gpd\n",
    "from shapely.geometry import Polygon, box\n",
    "from ipywidgets import Button, Output\n",
    "from IPython.display import display\n",
    "import numpy as np\n",
    "\n",
    "# Create a map\n",
    "m = Map(center=(25, 50), zoom=5, basemap=basemaps.OpenStreetMap.Mapnik)\n",
    "\n",
    "# Create a draw control\n",
    "draw_control = DrawControl(polygon={'shapeOptions': {'color': '#0000FF'}})\n",
    "m.add_control(draw_control)\n",
    "\n",
    "# Display the map\n",
    "display(m)\n",
    "\n",
    "# Create an output widget to display results\n",
    "output = Output()\n",
    "display(output)\n",
    "\n",
    "# Function to execute when a new shape is drawn\n",
    "def handle_draw(self, action, geo_json):\n",
    "    # Get the coordinates of the polygon\n",
    "    coords = geo_json['geometry']['coordinates'][0]\n",
    "    polygon = Polygon(coords)\n",
    "\n",
    "    # Define the size of your square sections (in degrees)\n",
    "    square_size = 0.2\n",
    "\n",
    "    # Create a grid of squares within your area of interest\n",
    "    squares = []\n",
    "    for x in np.arange(min([coord[0] for coord in coords]), max([coord[0] for coord in coords]), square_size):\n",
    "        for y in np.arange(min([coord[1] for coord in coords]), max([coord[1] for coord in coords]), square_size):\n",
    "            square = box(x, y, x+square_size, y+square_size)\n",
    "            if polygon.intersects(square):\n",
    "                squares.append(square)\n",
    "\n",
    "    # Create a GeoDataFrame for the squares\n",
    "    squares_gdf = gpd.GeoDataFrame(gpd.GeoSeries(squares), columns=['geometry'])\n",
    "\n",
    "    # Display the squares on the map\n",
    "    m.add_layer(GeoData(geo_dataframe=squares_gdf))\n",
    "\n",
    "    coords_df = pd.DataFrame(columns=['minx', 'miny', 'maxx', 'maxy'])\n",
    "    \n",
    "    # Output the lat/lon coordinates of each square section\n",
    "    with output:\n",
    "        for i, row in squares_gdf.iterrows():\n",
    "            minx, miny, maxx, maxy = row.geometry.bounds\n",
    "            print(f'Square {i}:')\n",
    "            print(f'  Bottom left: ({miny}, {minx})')\n",
    "            print(f'  Top right: ({maxy}, {maxx})')\n",
    "            \n",
    "            coords_df.loc[i] = [minx, miny, maxx, maxy]\n",
    "            \n",
    "    coords_df.to_csv('squares_coordinates.csv', index=False)\n",
    "\n",
    "# Attach the function to the draw control\n",
    "draw_control.on_draw(handle_draw)\n"
   ]
  },
  {
   "cell_type": "code",
   "execution_count": null,
   "id": "2cb0ac2f0c6e8f14",
   "metadata": {},
   "outputs": [],
   "source": []
  },
  {
   "cell_type": "code",
   "execution_count": 13,
   "id": "2a5a5761",
   "metadata": {
    "ExecuteTime": {
     "end_time": "2023-10-24T00:55:11.555976Z",
     "start_time": "2023-10-24T00:55:11.539594Z"
    }
   },
   "outputs": [],
   "source": []
  },
  {
   "cell_type": "code",
   "execution_count": null,
   "id": "b29650935c602c24",
   "metadata": {},
   "outputs": [],
   "source": []
  }
 ],
 "metadata": {
  "kernelspec": {
   "display_name": "Python 3 (ipykernel)",
   "language": "python",
   "name": "python3"
  },
  "language_info": {
   "codemirror_mode": {
    "name": "ipython",
    "version": 3
   },
   "file_extension": ".py",
   "mimetype": "text/x-python",
   "name": "python",
   "nbconvert_exporter": "python",
   "pygments_lexer": "ipython3",
   "version": "3.8.17"
  }
 },
 "nbformat": 4,
 "nbformat_minor": 5
}
